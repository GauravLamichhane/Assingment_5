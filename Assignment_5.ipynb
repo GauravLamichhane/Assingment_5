{
 "cells": [
  {
   "cell_type": "code",
   "execution_count": null,
   "id": "cc7d701d",
   "metadata": {},
   "outputs": [],
   "source": [
    "import numpy as np\n",
    "import pandas as pd\n",
    "import matplotlib.pyplot as plt\n",
    "from sklearn.preprocessing import LabelEncoder"
   ]
  },
  {
   "cell_type": "code",
   "execution_count": null,
   "id": "43ab8ace",
   "metadata": {},
   "outputs": [],
   "source": [
    "car_price = pd.read_csv(\"CarPrice.csv\")"
   ]
  },
  {
   "cell_type": "code",
   "execution_count": null,
   "id": "88e4e2f9",
   "metadata": {},
   "outputs": [],
   "source": [
    "car_price"
   ]
  },
  {
   "cell_type": "code",
   "execution_count": null,
   "id": "3748a891",
   "metadata": {},
   "outputs": [],
   "source": [
    "car_price.isna().sum()"
   ]
  },
  {
   "cell_type": "code",
   "execution_count": null,
   "id": "317d6816",
   "metadata": {},
   "outputs": [],
   "source": [
    "for col in car_price.columns:\n",
    "    if car_price[col].dtype =='object':\n",
    "        car_price[col].fillna(car_price[col].mode()[0],inplace=True)\n",
    "    else:\n",
    "        car_price[col].fillna(car_price[col].mean(),inplace=True)"
   ]
  },
  {
   "cell_type": "code",
   "execution_count": null,
   "id": "5c17c44c",
   "metadata": {},
   "outputs": [],
   "source": [
    "car_price.isna().sum()"
   ]
  },
  {
   "cell_type": "markdown",
   "id": "b4e63ed0",
   "metadata": {},
   "source": [
    "### Converting categorical to numerical values using label encoder"
   ]
  },
  {
   "cell_type": "code",
   "execution_count": null,
   "id": "307892e9",
   "metadata": {},
   "outputs": [],
   "source": [
    "label_enc=LabelEncoder()\n",
    "for col in car_price.columns:\n",
    "    if car_price[col].dtype=='object':\n",
    "        car_price[col]=label_enc.fit_transform(car_price[col])"
   ]
  },
  {
   "cell_type": "code",
   "execution_count": null,
   "id": "4cc5c2dc",
   "metadata": {},
   "outputs": [],
   "source": [
    "car_price"
   ]
  },
  {
   "cell_type": "code",
   "execution_count": null,
   "id": "182af1e1",
   "metadata": {},
   "outputs": [],
   "source": [
    "correlation_matrix = car_price.corr()\n",
    "correlation_matrix"
   ]
  },
  {
   "cell_type": "code",
   "execution_count": null,
   "id": "06834227",
   "metadata": {},
   "outputs": [],
   "source": [
    "plt.figure(figsize=(8, 6))\n",
    "plt.imshow(correlation_matrix)\n",
    "plt.xticks(range(len(correlation_matrix)), correlation_matrix.columns, rotation=90)\n",
    "plt.yticks(range(len(correlation_matrix)), correlation_matrix.index)\n",
    "plt.show()"
   ]
  },
  {
   "cell_type": "code",
   "execution_count": null,
   "id": "c9cefa21",
   "metadata": {},
   "outputs": [],
   "source": [
    "from sklearn.preprocessing import MinMaxScaler\n",
    "from sklearn.model_selection import train_test_split\n",
    "from sklearn.linear_model import LinearRegression\n",
    "from sklearn.metrics import mean_squared_error, r2_score"
   ]
  },
  {
   "cell_type": "code",
   "execution_count": null,
   "id": "2ecb411c",
   "metadata": {},
   "outputs": [],
   "source": [
    "X = car_price[['symboling', 'CarName', 'fueltype', 'aspiration', 'doornumber', 'carbody', 'drivewheel', 'enginelocation', \n",
    "               'wheelbase', 'carlength', 'carwidth', 'carheight', 'curbweight', 'enginetype', 'cylindernumber', \n",
    "               'enginesize', 'fuelsystem', 'boreratio', 'stroke', 'compressionratio', 'horsepower', 'peakrpm', 'citympg', \n",
    "               'highwaympg']]\n",
    "y = car_price['price']"
   ]
  },
  {
   "cell_type": "code",
   "execution_count": null,
   "id": "38b2ca27",
   "metadata": {},
   "outputs": [],
   "source": [
    "scaler = MinMaxScaler()\n",
    "X_scaled = scaler.fit_transform(X)"
   ]
  },
  {
   "cell_type": "code",
   "execution_count": null,
   "id": "516314d8",
   "metadata": {},
   "outputs": [],
   "source": [
    "X_train, X_test, y_train, y_test = train_test_split(X_scaled, y, test_size=0.2, random_state=42)"
   ]
  },
  {
   "cell_type": "code",
   "execution_count": null,
   "id": "556f4bca",
   "metadata": {},
   "outputs": [],
   "source": [
    "LR = LinearRegression()\n",
    "LR.fit(X_train, y_train)"
   ]
  },
  {
   "cell_type": "code",
   "execution_count": null,
   "id": "d45d81fa",
   "metadata": {},
   "outputs": [],
   "source": [
    "LR.coef_"
   ]
  },
  {
   "cell_type": "code",
   "execution_count": null,
   "id": "657873c5",
   "metadata": {},
   "outputs": [],
   "source": [
    "LR.intercept_"
   ]
  },
  {
   "cell_type": "code",
   "execution_count": null,
   "id": "227ee69e",
   "metadata": {},
   "outputs": [],
   "source": [
    "y_pred = LR.predict(X_test)"
   ]
  },
  {
   "cell_type": "code",
   "execution_count": null,
   "id": "f347d93d",
   "metadata": {},
   "outputs": [],
   "source": [
    "y_pred"
   ]
  },
  {
   "cell_type": "code",
   "execution_count": null,
   "id": "8e7eedd9",
   "metadata": {},
   "outputs": [],
   "source": [
    "error= mean_squared_error(y_pred, y_test)\n",
    "error"
   ]
  },
  {
   "cell_type": "code",
   "execution_count": null,
   "id": "e749a579",
   "metadata": {},
   "outputs": [],
   "source": [
    "r2_score = r2_score(y_pred,y_test)\n",
    "r2_score"
   ]
  },
  {
   "cell_type": "code",
   "execution_count": null,
   "id": "6ca3b642",
   "metadata": {},
   "outputs": [],
   "source": [
    "root_mse = np.sqrt(error)\n",
    "root_mse"
   ]
  },
  {
   "cell_type": "code",
   "execution_count": null,
   "id": "83c4b3ec",
   "metadata": {},
   "outputs": [],
   "source": []
  }
 ],
 "metadata": {
  "kernelspec": {
   "display_name": "Python 3 (ipykernel)",
   "language": "python",
   "name": "python3"
  },
  "language_info": {
   "codemirror_mode": {
    "name": "ipython",
    "version": 3
   },
   "file_extension": ".py",
   "mimetype": "text/x-python",
   "name": "python",
   "nbconvert_exporter": "python",
   "pygments_lexer": "ipython3",
   "version": "3.11.7"
  }
 },
 "nbformat": 4,
 "nbformat_minor": 5
}
